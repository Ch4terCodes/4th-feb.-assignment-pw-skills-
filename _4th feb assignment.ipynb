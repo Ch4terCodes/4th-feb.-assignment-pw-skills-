{
 "cells": [
  {
   "cell_type": "code",
   "execution_count": null,
   "id": "e0db7ec6-1609-42b9-adc6-6181ba6de794",
   "metadata": {},
   "outputs": [],
   "source": [
    "#Q1. Create a python program to sort the given list of tuples based on integer value using a lambda function.\n",
    "#[('Sachin Tendulkar', 34357), ('Ricky Ponting', 27483), ('Jack Kallis', 25534), ('Virat Kohli', 24936)]\n",
    "\n",
    "#answer:\n",
    "my_list = [('Sachin Tendulkar', 34357), ('Ricky Ponting', 27483), ('Jack Kallis', 25534), ('Virat Kohli', 24936)]\n",
    "sorted_list = sorted(my_list, key=lambda x: x[1])\n",
    "print(sorted_list)"
   ]
  },
  {
   "cell_type": "code",
   "execution_count": null,
   "id": "62daf76b-17db-48a0-b1f8-a7cc55449c8f",
   "metadata": {},
   "outputs": [],
   "source": [
    "#output:\n",
    "[('Virat Kohli', 24936), ('Jack Kallis', 25534), ('Ricky Ponting', 27483), ('Sachin Tendulkar', 34357)]"
   ]
  },
  {
   "cell_type": "code",
   "execution_count": null,
   "id": "a7c90411-8dfc-47d2-8350-73cf1a9bae24",
   "metadata": {},
   "outputs": [],
   "source": [
    "#Q2. Write a Python Program to find the squares of all the numbers in the given list of integers using lambda and map functions,\n",
    "#[1, 2, 3, 4, 5, 6, 7, 8, 9, 10]\n",
    "\n",
    "#answer:\n",
    "my_list = [1, 2, 3, 4, 5, 6, 7, 8, 9, 10]\n",
    "squares = list(map(lambda x: x**2, my_list))\n",
    "print(squares)\n"
   ]
  },
  {
   "cell_type": "code",
   "execution_count": null,
   "id": "d9adeeec-41c3-4b7c-be1f-367638376f67",
   "metadata": {},
   "outputs": [],
   "source": [
    "#output:\n",
    "[1, 4, 9, 16, 25, 36, 49, 64, 81, 100]\n"
   ]
  },
  {
   "cell_type": "code",
   "execution_count": null,
   "id": "3de61f8f-44d7-4744-9b5d-1d69949f601e",
   "metadata": {},
   "outputs": [],
   "source": [
    "#Q3. Write a python program to convert the given list of integers into a tuple of strings. Use map and lambda functions\n",
    "#Given String: [1, 2, 3, 4, 5, 6, 7, 8, 9, 10]\n",
    "#Expected output: ('1', '2', '3', '4', '5', '6', '7', '8', '9', '10')\n",
    "\n",
    "#answer:\n",
    "lst = [1, 2, 3, 4, 5, 6, 7, 8, 9, 10]\n",
    "result = tuple(map(lambda x: str(x), lst))\n",
    "print(result)\n"
   ]
  },
  {
   "cell_type": "code",
   "execution_count": null,
   "id": "343eadfd-43ce-4b81-b583-6a3574d9fe5b",
   "metadata": {},
   "outputs": [],
   "source": [
    "#output:\n",
    "('1', '2', '3', '4', '5', '6', '7', '8', '9', '10')"
   ]
  },
  {
   "cell_type": "code",
   "execution_count": null,
   "id": "5877d73e-e165-42b8-bc17-9d6803f14fe0",
   "metadata": {},
   "outputs": [],
   "source": [
    "#Q4. Write a python program using reduce function to compute the product of a list containing numbers from 1 to 25.\n",
    "#answer:\n",
    "from functools import reduce\n",
    "\n",
    "my_list = list(range(1, 26))\n",
    "product = reduce(lambda x, y: x * y, my_list)\n",
    "print(product)\n"
   ]
  },
  {
   "cell_type": "code",
   "execution_count": null,
   "id": "b2d9aeee-aadf-41e9-86b6-74ee16a6735a",
   "metadata": {},
   "outputs": [],
   "source": [
    "#output:\n",
    "15511210043330985984000000"
   ]
  },
  {
   "cell_type": "code",
   "execution_count": null,
   "id": "473cd9f6-a511-44c6-8a6c-2ce2937a8c76",
   "metadata": {},
   "outputs": [],
   "source": [
    "#Q5.Write a python program to filter the numbers in a given list that are divisible by 2 and 3 using the\n",
    "#filter function.\n",
    "#answer:\n",
    "my_list = [2, 3, 6, 9, 27, 60, 90, 120, 55, 46]\n",
    "filtered_list = list(filter(lambda x: x % 2 == 0 and x % 3 == 0, my_list))\n",
    "print(filtered_list)\n"
   ]
  },
  {
   "cell_type": "code",
   "execution_count": null,
   "id": "28d00c2f-eff5-4845-ae5f-3ffaf2abbb16",
   "metadata": {},
   "outputs": [],
   "source": [
    "#output:\n",
    "[6, 60, 90, 120]"
   ]
  },
  {
   "cell_type": "code",
   "execution_count": null,
   "id": "50fa45f3-2524-49d4-988d-5c31f2fd7e1f",
   "metadata": {},
   "outputs": [],
   "source": [
    "#Q6. Write a python program to find palindromes in the given list of strings using lambda and filter function.\n",
    "#['python', 'php', 'aba', 'radar', 'level']\n",
    "\n",
    "#answer:\n",
    "my_list = ['python', 'php', 'aba', 'radar', 'level']\n",
    "palindromes = list(filter(lambda x: x == x[::-1], my_list))\n",
    "print(palindromes)"
   ]
  },
  {
   "cell_type": "code",
   "execution_count": null,
   "id": "59dee915-52a1-40c8-b567-c27ccb16c61e",
   "metadata": {},
   "outputs": [],
   "source": [
    "#output:\n",
    "['php', 'aba', 'radar', 'level']"
   ]
  }
 ],
 "metadata": {
  "kernelspec": {
   "display_name": "Python 3 (ipykernel)",
   "language": "python",
   "name": "python3"
  },
  "language_info": {
   "codemirror_mode": {
    "name": "ipython",
    "version": 3
   },
   "file_extension": ".py",
   "mimetype": "text/x-python",
   "name": "python",
   "nbconvert_exporter": "python",
   "pygments_lexer": "ipython3",
   "version": "3.10.8"
  }
 },
 "nbformat": 4,
 "nbformat_minor": 5
}
